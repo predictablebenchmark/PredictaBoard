{
 "cells": [
  {
   "cell_type": "code",
   "id": "initial_id",
   "metadata": {
    "collapsed": true,
    "ExecuteTime": {
     "end_time": "2024-12-05T17:47:02.429866Z",
     "start_time": "2024-12-05T17:47:02.422870Z"
    }
   },
   "source": "import pandas as pd\n",
   "outputs": [],
   "execution_count": 1
  },
  {
   "metadata": {
    "ExecuteTime": {
     "end_time": "2024-12-05T17:47:03.403186Z",
     "start_time": "2024-12-05T17:47:02.483844Z"
    }
   },
   "cell_type": "code",
   "source": "!ls",
   "id": "b3e3b8c07a879034",
   "outputs": [
    {
     "name": "stdout",
     "output_type": "stream",
     "text": [
      "bbh_boolean_expressions_prompts_with_openai_embeddings.gz\r\n",
      "mmlu_pro_prompts_with_openai_embeddings.gz\r\n",
      "mmlu_pro_prompts_with_openai_embeddings.json\r\n",
      "try_load.ipynb\r\n"
     ]
    }
   ],
   "execution_count": 2
  },
  {
   "metadata": {},
   "cell_type": "markdown",
   "source": "Try loading the uncompressed dataset:",
   "id": "b9ff37baaa28fc1a"
  },
  {
   "metadata": {
    "ExecuteTime": {
     "end_time": "2024-12-05T17:47:34.140562Z",
     "start_time": "2024-12-05T17:47:23.378488Z"
    }
   },
   "cell_type": "code",
   "source": "df = pd.read_json(\"mmlu_pro_prompts_with_openai_embeddings.json\")",
   "id": "512a6ec972fdd59a",
   "outputs": [],
   "execution_count": 3
  },
  {
   "metadata": {
    "ExecuteTime": {
     "end_time": "2024-12-05T17:48:44.811599Z",
     "start_time": "2024-12-05T17:48:44.780321Z"
    }
   },
   "cell_type": "code",
   "source": "df.tail()",
   "id": "57e2e943bab19206",
   "outputs": [
    {
     "data": {
      "text/plain": [
       "          id                                             prompt target  \\\n",
       "12027  11999  Consider the nonuniform field E= ya_x + xa_y +...      A   \n",
       "12028  12007  A 15 hp internal-combustion engine runs at 140...      G   \n",
       "12029  12015  Estimate the overall heat transfer coefficient...      A   \n",
       "12030  12023  Water at 340°K and a rate of 4 Kg/hr is requir...      B   \n",
       "12031  12031  The frequency range of a commercially broadcas...      F   \n",
       "\n",
       "                                       openai_embeddings  \n",
       "12027  [-0.0039207353, -0.0131637044, 0.0054398905, 0...  \n",
       "12028  [0.0354186222, -0.0155975595, -0.0108193867000...  \n",
       "12029  [0.017625533000000002, -0.0167411435, -0.00468...  \n",
       "12030  [-0.0094861165, -0.011592539, 0.0017078617, 0....  \n",
       "12031  [-0.0058051380000000005, 0.0024354318, -0.0002...  "
      ],
      "text/html": [
       "<div>\n",
       "<style scoped>\n",
       "    .dataframe tbody tr th:only-of-type {\n",
       "        vertical-align: middle;\n",
       "    }\n",
       "\n",
       "    .dataframe tbody tr th {\n",
       "        vertical-align: top;\n",
       "    }\n",
       "\n",
       "    .dataframe thead th {\n",
       "        text-align: right;\n",
       "    }\n",
       "</style>\n",
       "<table border=\"1\" class=\"dataframe\">\n",
       "  <thead>\n",
       "    <tr style=\"text-align: right;\">\n",
       "      <th></th>\n",
       "      <th>id</th>\n",
       "      <th>prompt</th>\n",
       "      <th>target</th>\n",
       "      <th>openai_embeddings</th>\n",
       "    </tr>\n",
       "  </thead>\n",
       "  <tbody>\n",
       "    <tr>\n",
       "      <th>12027</th>\n",
       "      <td>11999</td>\n",
       "      <td>Consider the nonuniform field E= ya_x + xa_y +...</td>\n",
       "      <td>A</td>\n",
       "      <td>[-0.0039207353, -0.0131637044, 0.0054398905, 0...</td>\n",
       "    </tr>\n",
       "    <tr>\n",
       "      <th>12028</th>\n",
       "      <td>12007</td>\n",
       "      <td>A 15 hp internal-combustion engine runs at 140...</td>\n",
       "      <td>G</td>\n",
       "      <td>[0.0354186222, -0.0155975595, -0.0108193867000...</td>\n",
       "    </tr>\n",
       "    <tr>\n",
       "      <th>12029</th>\n",
       "      <td>12015</td>\n",
       "      <td>Estimate the overall heat transfer coefficient...</td>\n",
       "      <td>A</td>\n",
       "      <td>[0.017625533000000002, -0.0167411435, -0.00468...</td>\n",
       "    </tr>\n",
       "    <tr>\n",
       "      <th>12030</th>\n",
       "      <td>12023</td>\n",
       "      <td>Water at 340°K and a rate of 4 Kg/hr is requir...</td>\n",
       "      <td>B</td>\n",
       "      <td>[-0.0094861165, -0.011592539, 0.0017078617, 0....</td>\n",
       "    </tr>\n",
       "    <tr>\n",
       "      <th>12031</th>\n",
       "      <td>12031</td>\n",
       "      <td>The frequency range of a commercially broadcas...</td>\n",
       "      <td>F</td>\n",
       "      <td>[-0.0058051380000000005, 0.0024354318, -0.0002...</td>\n",
       "    </tr>\n",
       "  </tbody>\n",
       "</table>\n",
       "</div>"
      ]
     },
     "execution_count": 11,
     "metadata": {},
     "output_type": "execute_result"
    }
   ],
   "execution_count": 11
  }
 ],
 "metadata": {
  "kernelspec": {
   "display_name": "Python 3",
   "language": "python",
   "name": "python3"
  },
  "language_info": {
   "codemirror_mode": {
    "name": "ipython",
    "version": 2
   },
   "file_extension": ".py",
   "mimetype": "text/x-python",
   "name": "python",
   "nbconvert_exporter": "python",
   "pygments_lexer": "ipython2",
   "version": "2.7.6"
  }
 },
 "nbformat": 4,
 "nbformat_minor": 5
}
